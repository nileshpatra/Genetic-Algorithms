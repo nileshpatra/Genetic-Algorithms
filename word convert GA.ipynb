{
 "cells": [
  {
   "cell_type": "code",
   "execution_count": 1,
   "metadata": {},
   "outputs": [],
   "source": [
    "import random"
   ]
  },
  {
   "cell_type": "code",
   "execution_count": 2,
   "metadata": {},
   "outputs": [],
   "source": [
    "start = \" abcdefghijklmnopqrstuvwxyzABCDEFGHIJKLMNOPQRSTUVWXYZ!.\"\n",
    "target = \"This is my first genetic algorithm\""
   ]
  },
  {
   "cell_type": "code",
   "execution_count": 3,
   "metadata": {},
   "outputs": [],
   "source": [
    "def get_parent(word , length):\n",
    "    s = ''\n",
    "    for _ in range(length):\n",
    "        s += word[random.randint(0 , length)]\n",
    "    return s"
   ]
  },
  {
   "cell_type": "code",
   "execution_count": 4,
   "metadata": {},
   "outputs": [],
   "source": [
    "def get_fitness(word , res):\n",
    "    fitness = 0\n",
    "    for i in range(len(res)):\n",
    "        if word[i] == res[i]:\n",
    "            fitness += 1\n",
    "    return fitness"
   ]
  },
  {
   "cell_type": "code",
   "execution_count": 5,
   "metadata": {},
   "outputs": [],
   "source": [
    "def mutate(parent):\n",
    "    gene_rep = start[random.randint(0 , len(start) - 1)]\n",
    "    idx = random.randint(0 , len(parent) - 1)\n",
    "    genes = list(parent)\n",
    "    genes[idx] = gene_rep\n",
    "    return \"\".join(genes)"
   ]
  },
  {
   "cell_type": "code",
   "execution_count": 6,
   "metadata": {},
   "outputs": [
    {
     "name": "stdout",
     "output_type": "stream",
     "text": [
      "jqrFlzhlwphmcHcvlxwthccciyhrCrndfn\n",
      "jqrFlzhlwphmcHcvlxethccciyhrCrndfn\n",
      "jqrFlzhlwphmcrcvlxethccciyhrCrndfn\n",
      "jqrFlzhlwphmcrcv xethccciyhrCrndfn\n",
      "TqrFlzhlwphmcrcv xethccciyhrCrndfn\n",
      "TqrFlzhlwphmcrcv xeteccciyhrCrndfn\n",
      "TqrFlzhlwphmcrcv xeteccciahrCrndfn\n",
      "TqrFlzhlwphmcrct xeteccciahrCrndfn\n",
      "TqrFlzhlwphmirct xeteccciahrCrndfn\n",
      "Tqrslzhlwphmirct xeteccciahrCrndfn\n",
      "Tqrslzhlwphmirct xeteccciahrorndfn\n",
      "Tqrslzhlwphmirct xeteccciahrorndhn\n",
      "Tqrslzslwphmirct xeteccciahrorndhn\n",
      "Tqrslzslwphmirct xetetcciahrorndhn\n",
      "Tqrslzslwphmirst xetetcciahrorndhn\n",
      "Tqrslislwphmirst xetetcciahrorndhn\n",
      "Tqrslislwyhmirst xetetcciahrorndhn\n",
      "Tqrslis wyhmirst xetetcciahrorndhn\n",
      "Tqrslis wyhmirst xetetcciahgorndhn\n",
      "Tqrslis myhmirst xetetcciahgorndhn\n",
      "Tqrslis my mirst xetetcciahgorndhn\n",
      "Tqrslis my mirst getetcciahgorndhn\n",
      "Tqrslis my mirst getetcc ahgorndhn\n",
      "Tqrslis my mirst getetic ahgorndhn\n",
      "Thrslis my mirst getetic ahgorndhn\n",
      "Thrslis my mirst getetic ahgoridhn\n",
      "Thislis my mirst getetic ahgoridhn\n",
      "Thislis my mirst getetic ahgorithn\n",
      "This is my mirst getetic ahgorithn\n",
      "This is my mirst genetic ahgorithn\n",
      "This is my first genetic ahgorithn\n",
      "This is my first genetic algorithn\n",
      "This is my first genetic algorithm\n"
     ]
    }
   ],
   "source": [
    "parent = get_parent(start , len(target))\n",
    "bestfit = -1\n",
    "\n",
    "while bestfit < len(parent):\n",
    "    child = mutate(parent)\n",
    "    fitness = get_fitness(child , target)\n",
    "    \n",
    "    if fitness > bestfit:\n",
    "        bestfit = fitness\n",
    "        parent = child\n",
    "        print(child)"
   ]
  }
 ],
 "metadata": {
  "kernelspec": {
   "display_name": "Python 3",
   "language": "python",
   "name": "python3"
  },
  "language_info": {
   "codemirror_mode": {
    "name": "ipython",
    "version": 3
   },
   "file_extension": ".py",
   "mimetype": "text/x-python",
   "name": "python",
   "nbconvert_exporter": "python",
   "pygments_lexer": "ipython3",
   "version": "3.7.1"
  }
 },
 "nbformat": 4,
 "nbformat_minor": 2
}
