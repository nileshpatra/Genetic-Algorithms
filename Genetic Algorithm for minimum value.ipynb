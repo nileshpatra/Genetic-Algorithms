{
 "cells": [
  {
   "cell_type": "code",
   "execution_count": 1,
   "metadata": {},
   "outputs": [],
   "source": [
    "import numpy as np\n",
    "import sys\n",
    "import matplotlib.pyplot as plt\n",
    "import random\n",
    "%matplotlib inline"
   ]
  },
  {
   "cell_type": "code",
   "execution_count": 2,
   "metadata": {},
   "outputs": [],
   "source": [
    "G = 200\n",
    "M = 0.1\n",
    "P = 500\n",
    "Dn = 20"
   ]
  },
  {
   "cell_type": "code",
   "execution_count": 3,
   "metadata": {},
   "outputs": [],
   "source": [
    "from __future__ import print_function"
   ]
  },
  {
   "cell_type": "code",
   "execution_count": 4,
   "metadata": {},
   "outputs": [
    {
     "name": "stdout",
     "output_type": "stream",
     "text": [
      "[0.20852315 0.37990322 0.81526567 0.40120023 0.83495341 0.70433796\n",
      " 0.63527978 0.71498703 0.91501536 0.86399704 0.24553359 0.68561509\n",
      " 0.69743761 0.80697528 0.33441254 0.82021852 0.91660806 0.84834148\n",
      " 0.79936442 0.21314286]\n"
     ]
    }
   ],
   "source": [
    "r = np.random.random((Dn))\n",
    "def f(x):\n",
    "    return ((x - r)**4).sum()\n",
    "print(r)"
   ]
  },
  {
   "cell_type": "code",
   "execution_count": 5,
   "metadata": {},
   "outputs": [
    {
     "data": {
      "text/plain": [
       "1.388471925172265"
      ]
     },
     "execution_count": 5,
     "metadata": {},
     "output_type": "execute_result"
    }
   ],
   "source": [
    "n = np.random.random((Dn))\n",
    "f(n)"
   ]
  },
  {
   "cell_type": "code",
   "execution_count": 6,
   "metadata": {},
   "outputs": [],
   "source": [
    "def generate_population():\n",
    "    population = []\n",
    "    for _ in range(P):\n",
    "        population.append(np.random.uniform(-10 , 10 , (Dn)))\n",
    "    return population"
   ]
  },
  {
   "cell_type": "code",
   "execution_count": 7,
   "metadata": {},
   "outputs": [],
   "source": [
    "def crossover(parent1 , parent2):\n",
    "    child1 = np.zeros(parent1.shape)\n",
    "    child2 = np.zeros(parent2.shape)\n",
    "    \n",
    "    dim = parent1.shape[0]//2\n",
    "    child1[:dim] = parent1[:dim]\n",
    "    child1[dim:] = parent2[dim:]\n",
    "    \n",
    "    child2[:dim] = parent2[:dim]\n",
    "    child2[dim:] = parent1[dim:]\n",
    "    \n",
    "    return child1 , child2\n",
    "\n",
    "def mutate(x):\n",
    "    for i in range(x.shape[0]):\n",
    "        R = np.random.random()\n",
    "        if R < M:\n",
    "            x[i] = np.random.uniform(-5 , 5)\n",
    "    return x"
   ]
  },
  {
   "cell_type": "code",
   "execution_count": 8,
   "metadata": {},
   "outputs": [
    {
     "name": "stdout",
     "output_type": "stream",
     "text": [
      "Generation : 0 | loss : 10230.726720281278\n",
      "Generation : 1 | loss : 7349.964386199867\n",
      "Generation : 2 | loss : 4302.691768101404\n",
      "Generation : 3 | loss : 2479.7044427200794\n",
      "Generation : 4 | loss : 883.6499338409608\n",
      "Generation : 5 | loss : 883.6499338409608\n",
      "Generation : 6 | loss : 831.2130648496155\n",
      "Generation : 7 | loss : 535.5459724919341\n",
      "Generation : 8 | loss : 514.292170616013\n",
      "Generation : 9 | loss : 236.460909545173\n",
      "Generation : 10 | loss : 236.460909545173\n",
      "Generation : 11 | loss : 236.460909545173\n",
      "Generation : 12 | loss : 156.85085290341928\n",
      "Generation : 13 | loss : 119.36818274576265\n",
      "Generation : 14 | loss : 84.63366109656452\n",
      "Generation : 15 | loss : 84.63366109656452\n",
      "Generation : 16 | loss : 62.34036021237269\n",
      "Generation : 17 | loss : 62.34036021237269\n",
      "Generation : 18 | loss : 62.34036021237269\n",
      "Generation : 19 | loss : 52.76885115002757\n",
      "Generation : 20 | loss : 52.76885115002757\n",
      "Generation : 21 | loss : 45.335131201276056\n",
      "Generation : 22 | loss : 45.335131201276056\n",
      "Generation : 23 | loss : 24.302746119982235\n",
      "Generation : 24 | loss : 24.302746119982235\n",
      "Generation : 25 | loss : 24.302746119982235\n",
      "Generation : 26 | loss : 18.96222503431378\n",
      "Generation : 27 | loss : 18.96222503431378\n",
      "Generation : 28 | loss : 18.96222503431378\n",
      "Generation : 29 | loss : 18.96222503431378\n",
      "Generation : 30 | loss : 11.49289829330084\n",
      "Generation : 31 | loss : 11.49289829330084\n",
      "Generation : 32 | loss : 11.49289829330084\n",
      "Generation : 33 | loss : 8.23897052448664\n",
      "Generation : 34 | loss : 6.222184361649981\n",
      "Generation : 35 | loss : 6.222184361649981\n",
      "Generation : 36 | loss : 3.084312612364539\n",
      "Generation : 37 | loss : 3.084312612364539\n",
      "Generation : 38 | loss : 3.084312612364539\n",
      "Generation : 39 | loss : 3.084312612364539\n",
      "Generation : 40 | loss : 3.084312612364539\n",
      "Generation : 41 | loss : 3.084312612364539\n",
      "Generation : 42 | loss : 3.084312612364539\n",
      "Generation : 43 | loss : 3.084312612364539\n",
      "Generation : 44 | loss : 3.084312612364539\n",
      "Generation : 45 | loss : 2.72623703654077\n",
      "Generation : 46 | loss : 2.612443148323907\n",
      "Generation : 47 | loss : 2.1216691778350927\n",
      "Generation : 48 | loss : 2.1216691778350927\n",
      "Generation : 49 | loss : 2.1216691778350927\n",
      "Generation : 50 | loss : 1.9419721060184412\n",
      "Generation : 51 | loss : 1.9419721060184412\n",
      "Generation : 52 | loss : 1.864219226665886\n",
      "Generation : 53 | loss : 1.864219226665886\n",
      "Generation : 54 | loss : 1.6771110060459056\n",
      "Generation : 55 | loss : 1.621922894798943\n",
      "Generation : 56 | loss : 1.621922894798943\n",
      "Generation : 57 | loss : 1.612920443606273\n",
      "Generation : 58 | loss : 1.3722100422149186\n",
      "Generation : 59 | loss : 1.3722100422149186\n",
      "Generation : 60 | loss : 1.3092546937374396\n",
      "Generation : 61 | loss : 1.2479794040796865\n",
      "Generation : 62 | loss : 1.2479794040796865\n",
      "Generation : 63 | loss : 1.0364203870603332\n",
      "Generation : 64 | loss : 0.6640534491212327\n",
      "Generation : 65 | loss : 0.6640534491212327\n",
      "Generation : 66 | loss : 0.6640534491212327\n",
      "Generation : 67 | loss : 0.6640534491212327\n",
      "Generation : 68 | loss : 0.6640534491212327\n",
      "Generation : 69 | loss : 0.6640534491212327\n",
      "Generation : 70 | loss : 0.6640534491212327\n",
      "Generation : 71 | loss : 0.5548318658123255\n",
      "Generation : 72 | loss : 0.5548318658123255\n",
      "Generation : 73 | loss : 0.35892216973944424\n",
      "Generation : 74 | loss : 0.35892216973944424\n",
      "Generation : 75 | loss : 0.300737211016734\n",
      "Generation : 76 | loss : 0.300737211016734\n",
      "Generation : 77 | loss : 0.300737211016734\n",
      "Generation : 78 | loss : 0.29570857886760304\n",
      "Generation : 79 | loss : 0.29570857886760304\n",
      "Generation : 80 | loss : 0.29570857886760304\n",
      "Generation : 81 | loss : 0.2766987150483916\n",
      "Generation : 82 | loss : 0.1707528804035641\n",
      "Generation : 83 | loss : 0.1707528804035641\n",
      "Generation : 84 | loss : 0.15678638075345483\n",
      "Generation : 85 | loss : 0.15678638075345483\n",
      "Generation : 86 | loss : 0.15678638075345483\n",
      "Generation : 87 | loss : 0.13055163230814681\n",
      "Generation : 88 | loss : 0.1076969688726478\n",
      "Generation : 89 | loss : 0.1076969688726478\n",
      "Generation : 90 | loss : 0.1076969688726478\n",
      "Generation : 91 | loss : 0.1076969688726478\n",
      "Generation : 92 | loss : 0.1076969688726478\n",
      "Generation : 93 | loss : 0.1076969688726478\n",
      "Generation : 94 | loss : 0.10552809754757532\n",
      "Generation : 95 | loss : 0.09948078650404231\n",
      "Generation : 96 | loss : 0.09948078650404231\n",
      "Generation : 97 | loss : 0.08788231920397517\n",
      "Generation : 98 | loss : 0.07351875898013346\n",
      "Generation : 99 | loss : 0.07351875898013346\n",
      "Generation : 100 | loss : 0.07351875898013346\n",
      "Generation : 101 | loss : 0.07351875898013346\n",
      "Generation : 102 | loss : 0.07351875898013346\n",
      "Generation : 103 | loss : 0.07351875898013346\n",
      "Generation : 104 | loss : 0.07085190550708348\n",
      "Generation : 105 | loss : 0.07085190550708348\n",
      "Generation : 106 | loss : 0.06008825308403398\n",
      "Generation : 107 | loss : 0.06008825308403398\n",
      "Generation : 108 | loss : 0.06008825308403398\n",
      "Generation : 109 | loss : 0.06008825308403398\n",
      "Generation : 110 | loss : 0.06008825308403398\n",
      "Generation : 111 | loss : 0.05618137542529528\n",
      "Generation : 112 | loss : 0.05618137542529528\n",
      "Generation : 113 | loss : 0.05618137542529528\n",
      "Generation : 114 | loss : 0.05618137542529528\n",
      "Generation : 115 | loss : 0.05618137542529528\n",
      "Generation : 116 | loss : 0.05618137542529528\n",
      "Generation : 117 | loss : 0.04982865527585489\n",
      "Generation : 118 | loss : 0.04982865527585489\n",
      "Generation : 119 | loss : 0.04714348858171737\n",
      "Generation : 120 | loss : 0.04714348858171737\n",
      "Generation : 121 | loss : 0.04714348858171737\n",
      "Generation : 122 | loss : 0.039274497078029796\n",
      "Generation : 123 | loss : 0.039274497078029796\n",
      "Generation : 124 | loss : 0.039274497078029796\n",
      "Generation : 125 | loss : 0.039274497078029796\n",
      "Generation : 126 | loss : 0.039274497078029796\n",
      "Generation : 127 | loss : 0.039274497078029796\n",
      "Generation : 128 | loss : 0.03789620661896544\n",
      "Generation : 129 | loss : 0.03789620661896544\n",
      "Generation : 130 | loss : 0.03307018275416333\n",
      "Generation : 131 | loss : 0.03307018275416333\n",
      "Generation : 132 | loss : 0.03307018275416333\n",
      "Generation : 133 | loss : 0.03307018275416333\n",
      "Generation : 134 | loss : 0.03307018275416333\n",
      "Generation : 135 | loss : 0.027930806654659517\n",
      "Generation : 136 | loss : 0.017014125989116842\n",
      "Generation : 137 | loss : 0.017014125989116842\n",
      "Generation : 138 | loss : 0.017014125989116842\n",
      "Generation : 139 | loss : 0.01575250672822185\n",
      "Generation : 140 | loss : 0.01575250672822185\n",
      "Generation : 141 | loss : 0.01575250672822185\n",
      "Generation : 142 | loss : 0.012714726890056361\n",
      "Generation : 143 | loss : 0.012714726890056361\n",
      "Generation : 144 | loss : 0.012714726890056361\n",
      "Generation : 145 | loss : 0.012714726890056361\n",
      "Generation : 146 | loss : 0.01226427530336207\n",
      "Generation : 147 | loss : 0.01226427530336207\n",
      "Generation : 148 | loss : 0.011640417883286817\n",
      "Generation : 149 | loss : 0.008763046271539185\n",
      "Generation : 150 | loss : 0.008763046271539185\n",
      "Generation : 151 | loss : 0.008763046271539185\n",
      "Generation : 152 | loss : 0.008763046271539185\n",
      "Generation : 153 | loss : 0.008763046271539185\n",
      "Generation : 154 | loss : 0.008763046271539185\n",
      "Generation : 155 | loss : 0.007237440113617746\n",
      "Generation : 156 | loss : 0.007237440113617746\n",
      "Generation : 157 | loss : 0.007237440113617746\n",
      "Generation : 158 | loss : 0.007237440113617746\n",
      "Generation : 159 | loss : 0.007237440113617746\n",
      "Generation : 160 | loss : 0.007035495713300217\n",
      "Generation : 161 | loss : 0.007035495713300217\n",
      "Generation : 162 | loss : 0.007035495713300217\n",
      "Generation : 163 | loss : 0.007035495713300217\n",
      "Generation : 164 | loss : 0.007035495713300217\n",
      "Generation : 165 | loss : 0.005790265241821075\n",
      "Generation : 166 | loss : 0.005790265241821075\n",
      "Generation : 167 | loss : 0.005790265241821075\n",
      "Generation : 168 | loss : 0.005790265241821075\n",
      "Generation : 169 | loss : 0.0057901639310395945\n",
      "Generation : 170 | loss : 0.0057901639310395945\n",
      "Generation : 171 | loss : 0.004493274983279344\n",
      "Generation : 172 | loss : 0.004264557773118152\n",
      "Generation : 173 | loss : 0.004264557773118152\n",
      "Generation : 174 | loss : 0.004264557773118152\n",
      "Generation : 175 | loss : 0.004264557773118152\n",
      "Generation : 176 | loss : 0.004264557773118152\n",
      "Generation : 177 | loss : 0.004264557773118152\n",
      "Generation : 178 | loss : 0.00414618422373505\n",
      "Generation : 179 | loss : 0.001958767906819427\n",
      "Generation : 180 | loss : 0.001958767906819427\n",
      "Generation : 181 | loss : 0.001958767906819427\n",
      "Generation : 182 | loss : 0.001958767906819427\n",
      "Generation : 183 | loss : 0.001958767906819427\n",
      "Generation : 184 | loss : 0.001730050696658236\n",
      "Generation : 185 | loss : 0.001730050696658236\n",
      "Generation : 186 | loss : 0.001730050696658236\n"
     ]
    },
    {
     "name": "stdout",
     "output_type": "stream",
     "text": [
      "Generation : 187 | loss : 0.0016353129270508726\n",
      "Generation : 188 | loss : 0.0016353129270508726\n",
      "Generation : 189 | loss : 0.0016353129270508726\n",
      "Generation : 190 | loss : 0.0016353129270508726\n",
      "Generation : 191 | loss : 0.001551531722143191\n",
      "Generation : 192 | loss : 0.0011686942449794346\n",
      "Generation : 193 | loss : 0.0011686942449794346\n",
      "Generation : 194 | loss : 0.0011686942449794346\n",
      "Generation : 195 | loss : 0.0011686942449794346\n",
      "Generation : 196 | loss : 0.0011686942449794346\n",
      "Generation : 197 | loss : 0.0011686942449794346\n",
      "Generation : 198 | loss : 0.0011686942449794346\n",
      "Generation : 199 | loss : 0.0009399770348182444\n"
     ]
    }
   ],
   "source": [
    "loss = []\n",
    "pop = generate_population()\n",
    "for epoch in range(G):\n",
    "    pop = sorted(pop, key=lambda z: f(z))\n",
    "    print(\"Generation : {} | loss : {}\".format(epoch , f(pop[0])))\n",
    "    loss.append(f(pop[0]))\n",
    "    \n",
    "    temp = []\n",
    "    while len(temp) < P:\n",
    "        parent1 , parent2 = random.sample(pop[:int(P/2)],2)\n",
    "        c1 , c2 = crossover(parent1 , parent2)\n",
    "        c1 , c2 = mutate(c1) , mutate(c2)\n",
    "        temp.append(c1)\n",
    "        temp.append(c2)\n",
    "        \n",
    "    comb = temp+pop\n",
    "    pop = sorted(comb, key=lambda z: f(z))[:P]"
   ]
  },
  {
   "cell_type": "code",
   "execution_count": 10,
   "metadata": {},
   "outputs": [
    {
     "data": {
      "text/plain": [
       "[<matplotlib.lines.Line2D at 0x7f74a684b4a8>]"
      ]
     },
     "execution_count": 10,
     "metadata": {},
     "output_type": "execute_result"
    },
    {
     "data": {
      "image/png": "[encoded data removed]",
      "text/plain": [
       "<Figure size 432x288 with 1 Axes>"
      ]
     },
     "metadata": {
      "needs_background": "light"
     },
     "output_type": "display_data"
    }
   ],
   "source": [
    "plt.plot(loss)"
   ]
  },
  {
   "cell_type": "code",
   "execution_count": 11,
   "metadata": {},
   "outputs": [
    {
     "data": {
      "text/plain": [
       "(array([0.22063736, 0.46168877, 0.87790578, 0.53710908, 0.8047196 ,\n",
       "        0.67370509, 0.58418035, 0.746163  , 0.87845283, 0.82458159,\n",
       "        0.15583464, 0.68753042, 0.70271312, 0.72531012, 0.26750223,\n",
       "        0.69329349, 1.02091544, 0.84190441, 0.78502348, 0.14824015]),\n",
       " array([0.20852315, 0.37990322, 0.81526567, 0.40120023, 0.83495341,\n",
       "        0.70433796, 0.63527978, 0.71498703, 0.91501536, 0.86399704,\n",
       "        0.24553359, 0.68561509, 0.69743761, 0.80697528, 0.33441254,\n",
       "        0.82021852, 0.91660806, 0.84834148, 0.79936442, 0.21314286]))"
      ]
     },
     "execution_count": 11,
     "metadata": {},
     "output_type": "execute_result"
    }
   ],
   "source": [
    "pop[0] , r"
   ]
  }
 ],
 "metadata": {
  "kernelspec": {
   "display_name": "Python 3",
   "language": "python",
   "name": "python3"
  },
  "language_info": {
   "codemirror_mode": {
    "name": "ipython",
    "version": 3
   },
   "file_extension": ".py",
   "mimetype": "text/x-python",
   "name": "python",
   "nbconvert_exporter": "python",
   "pygments_lexer": "ipython3",
   "version": "3.7.1"
  }
 },
 "nbformat": 4,
 "nbformat_minor": 2
}
